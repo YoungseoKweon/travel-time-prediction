{
 "cells": [
  {
   "cell_type": "code",
   "execution_count": null,
   "id": "initial_id",
   "metadata": {
    "collapsed": true
   },
   "outputs": [],
   "source": [
    "import geopandas as gpd\n",
    "from shapely.geometry import Polygon, MultiPolygon\n",
    "import osmnx as ox\n",
    "import pandas as pd"
   ]
  },
  {
   "cell_type": "code",
   "execution_count": null,
   "outputs": [],
   "source": [
    "file_path = '../Data/'\n",
    "output_file_path = file_path + 'Output/'"
   ],
   "metadata": {
    "collapsed": false
   },
   "id": "43224ce62d055254"
  },
  {
   "cell_type": "markdown",
   "source": [
    "# Import human settlement shapefile from GHS UCDB\n",
    "Source: GHS Urban Centre Database 2015\n",
    "https://ghsl.jrc.ec.europa.eu/download.php?ds=ucdb "
   ],
   "metadata": {
    "collapsed": false
   },
   "id": "dc367bc782c8f9ed"
  },
  {
   "cell_type": "code",
   "execution_count": null,
   "outputs": [],
   "source": [
    "UCDB_gdf = gpd.read_file(file_path + \"GHS_STAT_UCDB2015MT_GLOBE_R2019A_V1_2.gpkg\")"
   ],
   "metadata": {
    "collapsed": false
   },
   "id": "a2268bfa1bf253dc"
  },
  {
   "cell_type": "code",
   "execution_count": null,
   "outputs": [],
   "source": [
    "# Select the polygon that is the human settlement area of LA: plot it, you can see there are holes in it\n",
    "LA_UCDB_gdf = UCDB_gdf[UCDB_gdf['UC_NM_MN'] == 'Los Angeles']\n",
    "LA_UCDB_gdf.plot()"
   ],
   "metadata": {
    "collapsed": false
   },
   "id": "a9f5c3ff6c1819e0"
  },
  {
   "cell_type": "markdown",
   "source": [
    "# Import TIGERline census tract shapefile"
   ],
   "metadata": {
    "collapsed": false
   },
   "id": "c17838f3c6dddc5b"
  },
  {
   "cell_type": "code",
   "execution_count": null,
   "outputs": [],
   "source": [
    "# census tracts in California\n",
    "CA_22tract = gpd.read_file(file_path + \"tl_2022_06_tract/tl_2022_06_tract.shp\")\n",
    "LA_UCDB_gdf.crs == CA_22tract.crs"
   ],
   "metadata": {
    "collapsed": false
   },
   "id": "997277004958b9a6"
  },
  {
   "cell_type": "code",
   "execution_count": null,
   "outputs": [],
   "source": [
    "# project the CRS to be the same - 4326\n",
    "CA_22tract_crs = CA_22tract.to_crs(4326)\n",
    "LA_UCDB_gdf.crs == CA_22tract_crs.crs"
   ],
   "metadata": {
    "collapsed": false
   },
   "id": "2a92ee1d275359e4"
  },
  {
   "cell_type": "code",
   "execution_count": null,
   "outputs": [],
   "source": [
    "# selecting census tracts in LA county\n",
    "LA_22tract = CA_22tract_crs[CA_22tract_crs['COUNTYFP'] == '037']"
   ],
   "metadata": {
    "collapsed": false
   },
   "id": "113130a60c7bba02"
  },
  {
   "cell_type": "markdown",
   "source": [
    "# Get the shapefile of intersection of LA county and LA human settlement area"
   ],
   "metadata": {
    "collapsed": false
   },
   "id": "101344b5436305b1"
  },
  {
   "cell_type": "code",
   "execution_count": null,
   "outputs": [],
   "source": [
    "# Plot the difference of two shapefile\n",
    "ax = LA_22tract.plot(color=\"palegreen\", edgecolor=\"green\", figsize=(20, 10))\n",
    "LA_UCDB_gdf.plot(ax=ax, color=\"red\")"
   ],
   "metadata": {
    "collapsed": false
   },
   "id": "620028d1ec5c448d"
  },
  {
   "cell_type": "code",
   "execution_count": null,
   "outputs": [],
   "source": [
    "# Get the intersection proportion of these two shapefiles\n",
    "LA_clip = gpd.clip(LA_22tract, LA_UCDB_gdf)\n",
    "LA_clip_whole = LA_clip.dissolve()"
   ],
   "metadata": {
    "collapsed": false
   },
   "id": "ea86c04c1fdb4862"
  },
  {
   "cell_type": "code",
   "execution_count": null,
   "outputs": [],
   "source": [
    "LA_clip_whole.plot()"
   ],
   "metadata": {
    "collapsed": false
   },
   "id": "3ebc24e8e8b086a7"
  },
  {
   "cell_type": "markdown",
   "source": [
    "# Get the convex hull of it"
   ],
   "metadata": {
    "collapsed": false
   },
   "id": "f1a16d5f18360b72"
  },
  {
   "cell_type": "code",
   "execution_count": null,
   "outputs": [],
   "source": [
    "LA_clip_convex = LA_clip_whole.convex_hull"
   ],
   "metadata": {
    "collapsed": false
   },
   "id": "e60dd41f9b206b2a"
  },
  {
   "cell_type": "code",
   "execution_count": null,
   "outputs": [],
   "source": [
    "# plot the convex hull of the intersected shapefile, which is our study area\n",
    "ax = LA_clip_convex.plot(color=\"palegreen\", edgecolor=\"green\", figsize=(20, 10))\n",
    "LA_clip_whole.plot(ax=ax, color=\"red\")"
   ],
   "metadata": {
    "collapsed": false
   },
   "id": "f2fa45904122ddc6"
  },
  {
   "cell_type": "code",
   "execution_count": null,
   "outputs": [],
   "source": [
    "LA_clip_convex.to_file(output_file_path + 'LA_clip_convex.shp') "
   ],
   "metadata": {
    "collapsed": false
   },
   "id": "8105ff68df631a42"
  },
  {
   "cell_type": "markdown",
   "source": [
    "# get street network for analysis\n",
    "### Using the above convex hull shapefile are our study region\n",
    "### Get strongly connected graph"
   ],
   "metadata": {
    "collapsed": false
   },
   "id": "e255c33851f5cb9"
  },
  {
   "cell_type": "code",
   "execution_count": null,
   "outputs": [],
   "source": [
    "LA_clip_convex_gdf = gpd.GeoDataFrame(geometry=gpd.GeoSeries(LA_clip_convex))\n",
    "LA_clip_convex_polygon = LA_clip_convex_gdf.iloc[0]['geometry']"
   ],
   "metadata": {
    "collapsed": false
   },
   "id": "d61298041d30a5b0"
  },
  {
   "cell_type": "code",
   "execution_count": null,
   "outputs": [],
   "source": [
    "G = ox.graph_from_polygon(LA_clip_convex_polygon, network_type='drive')\n",
    "ox.plot_graph(G)"
   ],
   "metadata": {
    "collapsed": false
   },
   "id": "8471169d5e8fc80b"
  },
  {
   "cell_type": "code",
   "execution_count": null,
   "outputs": [],
   "source": [
    "# get strongly connected graph\n",
    "G = ox.utils_graph.get_largest_component(G, strongly=True)"
   ],
   "metadata": {
    "collapsed": false
   },
   "id": "e6b9a3244f706d35"
  },
  {
   "cell_type": "code",
   "execution_count": null,
   "outputs": [],
   "source": [
    "# Save Geopackages\n",
    "ox.save_graph_geopackage(G, filepath=output_file_path + 'LA_clip_convex_strong_network.gpkg')\n",
    "# Save Graphml\n",
    "ox.save_graphml(G, filepath=output_file_path + 'LA_clip_convex_strong_network.graphml')"
   ],
   "metadata": {
    "collapsed": false
   },
   "id": "ae2eaba5e76e356c"
  },
  {
   "cell_type": "markdown",
   "source": [
    "# Attach information to all the nodes in the street network"
   ],
   "metadata": {
    "collapsed": false
   },
   "id": "bb7674eab3dde3d7"
  },
  {
   "cell_type": "code",
   "execution_count": null,
   "outputs": [],
   "source": [
    "gdf_nodes, gdf_edges = ox.graph_to_gdfs(G)\n",
    "gdf = gdf_nodes.reset_index(drop=False)"
   ],
   "metadata": {
    "collapsed": false
   },
   "id": "ee892b3132cf5005"
  },
  {
   "cell_type": "code",
   "execution_count": null,
   "outputs": [],
   "source": [
    "gdf_proj = ox.project_gdf(gdf, to_latlong=True)\n",
    "gdf_proj['x'] = gdf_proj['geometry'].x\n",
    "gdf_proj['y'] = gdf_proj['geometry'].y"
   ],
   "metadata": {
    "collapsed": false
   },
   "id": "3d6ffba54e4068f"
  },
  {
   "cell_type": "code",
   "execution_count": null,
   "outputs": [],
   "source": [
    "# Los Angeles census tract used by uber movements\n",
    "uber_tract = gpd.read_file(file_path + \"los_angeles_censustracts.json\")"
   ],
   "metadata": {
    "collapsed": false
   },
   "id": "930ad3aa545e6d6e"
  },
  {
   "cell_type": "code",
   "execution_count": null,
   "outputs": [],
   "source": [
    "# attach information on \n",
    "selected_cols = [\"osmid\", \"y\", \"x\", \"highway\", \"street_count\", \"ref\",\"geometry\", \"GEOID\"]\n",
    "gdf_proj_tract = gpd.sjoin(gdf_proj, CA_22tract_crs, how='left', predicate='within')[selected_cols]\n",
    "gdf_proj_tract_uber = gpd.sjoin(gdf_proj_tract, uber_tract, how='left', predicate='within')[selected_cols + [\"MOVEMENT_ID\", \"TRACT\"]]\n",
    "gdf_proj_tract_uber"
   ],
   "metadata": {
    "collapsed": false
   },
   "id": "9fae0c27fdb4ae67"
  },
  {
   "cell_type": "code",
   "execution_count": null,
   "outputs": [],
   "source": [
    "# As it is possible that a node locates on the borderline of uber movement tracts, I only keep the first matched information on uber tract.\n",
    "gdf_proj_tract_uber_dedup = gdf_proj_tract_uber.drop_duplicates(subset=['osmid'], keep='first')"
   ],
   "metadata": {
    "collapsed": false
   },
   "id": "33af697abb53a094"
  },
  {
   "cell_type": "markdown",
   "source": [
    "\n",
    "# Sample 5,000,000 nodes as origin and destination (5,000,000 OD pairs) in potential nodes candidates"
   ],
   "metadata": {
    "collapsed": false
   },
   "id": "4b8805430f4c8a7e"
  },
  {
   "cell_type": "code",
   "execution_count": null,
   "outputs": [],
   "source": [
    "gdf_proj.to_csv(output_file_path + \"nodes_candidate_convex_strongly.csv\")\n",
    "gdf_proj_tract_uber_dedup.to_csv(output_file_path + \"nodes_candidate_convex_strongly_attributes.csv\")"
   ],
   "metadata": {
    "collapsed": false
   },
   "id": "4121c407986253ea"
  },
  {
   "cell_type": "code",
   "execution_count": null,
   "outputs": [],
   "source": [
    "# I randomly sampled with replacement as there are fewer than 5 million nodes in the studied street networks\n",
    "origin = gdf_proj_tract_uber_dedup.sample(5000000, random_state=123, replace = True).copy()\n",
    "destin = gdf_proj_tract_uber_dedup.sample(5000000, random_state=321, replace = True).copy()\n",
    "origin = origin.reset_index(drop=True)\n",
    "destin = destin.reset_index(drop=True)"
   ],
   "metadata": {
    "collapsed": false
   },
   "id": "260c9a5b077f9c9d"
  },
  {
   "cell_type": "code",
   "execution_count": null,
   "outputs": [],
   "source": [
    "origin_od = origin[[\"osmid\", \"y\", \"x\", \"GEOID\", \"MOVEMENT_ID\"]]\n",
    "origin_od.columns = ['oid', 'oy', 'ox', 'oGEOID', 'oMOVEMENT_ID']\n",
    "destin_od = destin[[\"osmid\", \"y\", \"x\", \"GEOID\", \"MOVEMENT_ID\"]]\n",
    "destin_od.columns = ['did', 'dy', 'dx', 'dGEOID', 'dMOVEMENT_ID']\n",
    "temp_OD = pd.concat([origin_od, destin_od], sort=False, axis=1)\n"
   ],
   "metadata": {
    "collapsed": false
   },
   "id": "b4875d83e7c90003"
  },
  {
   "cell_type": "code",
   "execution_count": null,
   "outputs": [],
   "source": [
    "# Drop the OD pairs where the origin and destination are the same node\n",
    "origin_dedup = origin.drop(temp_OD[temp_OD['oid'] == temp_OD['did']].index)\n",
    "destin_dedup = destin.drop(temp_OD[temp_OD['oid'] == temp_OD['did']].index)\n"
   ],
   "metadata": {
    "collapsed": false
   },
   "id": "ac12b47379c8b3e"
  },
  {
   "cell_type": "code",
   "execution_count": null,
   "outputs": [],
   "source": [
    "temp_OD = temp_OD.drop(temp_OD[temp_OD['oid'] == temp_OD['did']].index)\n",
    "temp_OD.to_csv(output_file_path + \"OD_5m_strong.csv\")"
   ],
   "metadata": {
    "collapsed": false
   },
   "id": "f27ff93ac954a02b"
  },
  {
   "cell_type": "code",
   "execution_count": null,
   "outputs": [],
   "source": [
    "# origin_dedup.to_file(output_file_path + 'origin_5m.shp') \n",
    "# destin_dedup.to_file(output_file_path + 'destin_5m.shp') "
   ],
   "metadata": {
    "collapsed": false
   },
   "id": "a0809b64e857000e"
  },
  {
   "cell_type": "markdown",
   "source": [
    "# Subset OD pairs that have reference to uber movement 2020"
   ],
   "metadata": {
    "collapsed": false
   },
   "id": "9f153f1f7c58b64b"
  },
  {
   "cell_type": "code",
   "execution_count": null,
   "outputs": [],
   "source": [
    "temp_OD['oMOVEMENT_ID'] = temp_OD['oMOVEMENT_ID'].astype(float)\n",
    "temp_OD['dMOVEMENT_ID'] = temp_OD['dMOVEMENT_ID'].astype(float)"
   ],
   "metadata": {
    "collapsed": false
   },
   "id": "fc720135c5acfe1e"
  },
  {
   "cell_type": "code",
   "execution_count": null,
   "outputs": [],
   "source": [
    "temp_OD['uber_OD'] = list(zip(temp_OD.oMOVEMENT_ID, temp_OD.dMOVEMENT_ID))"
   ],
   "metadata": {
    "collapsed": false
   },
   "id": "8bcc02cf83847601"
  },
  {
   "cell_type": "code",
   "execution_count": null,
   "outputs": [],
   "source": [
    "uber_2020 = pd.read_csv(file_path + \"los_angeles-censustracts-2020-1-All-HourlyAggregate.csv\",\n",
    "                       dtype={\"sourceid\": float, \"dstid\": float})"
   ],
   "metadata": {
    "collapsed": false
   },
   "id": "dacab4ac64c2457"
  },
  {
   "cell_type": "code",
   "execution_count": null,
   "outputs": [],
   "source": [
    "# Select the OD pairs that have reference in uber movement 2020\n",
    "unique_OD = set(list(zip(uber_2020.sourceid, uber_2020.dstid)))\n",
    "OD_pairs_uber = temp_OD[temp_OD['uber_OD'].isin(unique_OD)]"
   ],
   "metadata": {
    "collapsed": false
   },
   "id": "bc4035e286327de8"
  },
  {
   "cell_type": "code",
   "execution_count": null,
   "outputs": [],
   "source": [
    "OD_pairs_uber"
   ],
   "metadata": {
    "collapsed": false
   },
   "id": "8c22fed490939a23"
  },
  {
   "cell_type": "code",
   "execution_count": null,
   "outputs": [],
   "source": [
    "# sample 1 million OD pairs out of 1,197,651 OD pairs that have reference with 202 uber movement data\n",
    "OD_pairs_uber_1m = OD_pairs_uber.sample(1000000, random_state=123).copy()"
   ],
   "metadata": {
    "collapsed": false
   },
   "id": "e2c000f553853cb"
  },
  {
   "cell_type": "code",
   "execution_count": null,
   "outputs": [],
   "source": [
    "OD_pairs_uber_1m.to_csv(output_file_path + \"OD_pairs_uber_1m_strongly.csv\")"
   ],
   "metadata": {
    "collapsed": false
   },
   "id": "2c89e3bebb7be35b"
  },
  {
   "cell_type": "code",
   "execution_count": null,
   "outputs": [],
   "source": [
    "OD_pairs_remains = temp_OD[~temp_OD.index.isin(OD_pairs_uber_1m.index)]\n",
    "OD_pairs_remains.to_csv(output_file_path + \"OD_pairs_uber_4m_remains_strongly.csv\")"
   ],
   "metadata": {
    "collapsed": false
   },
   "id": "2938c8b425dd617c"
  }
 ],
 "metadata": {
  "kernelspec": {
   "display_name": "Python 3",
   "language": "python",
   "name": "python3"
  },
  "language_info": {
   "codemirror_mode": {
    "name": "ipython",
    "version": 2
   },
   "file_extension": ".py",
   "mimetype": "text/x-python",
   "name": "python",
   "nbconvert_exporter": "python",
   "pygments_lexer": "ipython2",
   "version": "2.7.6"
  }
 },
 "nbformat": 4,
 "nbformat_minor": 5
}
