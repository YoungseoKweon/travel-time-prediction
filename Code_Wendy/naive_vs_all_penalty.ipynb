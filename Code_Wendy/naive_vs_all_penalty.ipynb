{
 "cells": [
  {
   "cell_type": "markdown",
   "source": [
    "# Import libraries and Config"
   ],
   "metadata": {
    "collapsed": false
   },
   "id": "4fa5764401d0ba3c"
  },
  {
   "cell_type": "code",
   "execution_count": null,
   "id": "initial_id",
   "metadata": {
    "collapsed": true
   },
   "outputs": [],
   "source": [
    "# import libraries\n",
    "import multiprocessing as mp\n",
    "import geopandas as gpd\n",
    "import osmnx as ox\n",
    "import networkx as nx\n",
    "import numpy as np\n",
    "import pandas as pd\n",
    "import matplotlib.pyplot as plt\n",
    "from shapely import wkt"
   ]
  },
  {
   "cell_type": "code",
   "execution_count": null,
   "outputs": [],
   "source": [
    "from Code_Jessica.functions import get_turn_penalty_dict\n",
    "from Code_Jessica.functions import add_edge_traffic_times\n",
    "from Code_Jessica.functions import shortest_path_turn_penalty"
   ],
   "metadata": {
    "collapsed": false
   },
   "id": "e0d6664a9d86eec"
  },
  {
   "cell_type": "code",
   "execution_count": null,
   "outputs": [],
   "source": [
    "def get_routes_from_OD_df(G, OD_df, **kwargs):\n",
    "  routes = []\n",
    "  for i in range(len(OD_df)):\n",
    "      # find routes while considering penalties\n",
    "      route = shortest_path_turn_penalty(G, OD_df.iloc[i]['oid'], OD_df.iloc[i]['did'], **kwargs)\n",
    "      routes.append(route)\n",
    "  return routes"
   ],
   "metadata": {
    "collapsed": false
   },
   "id": "af22c592a85fc4f0"
  },
  {
   "cell_type": "code",
   "execution_count": null,
   "outputs": [],
   "source": [
    "TRAFFIC_TIME_CONFIG = {\n",
    "    'traffic_signals_time': 2,\n",
    "    'stop_time' : 2,\n",
    "    'turning_circle_time': 0,\n",
    "    'crossing_time': 1.5,\n",
    "    'give_way_time': 1.5,\n",
    "    'mini_roundabout_time': 1.5\n",
    "}"
   ],
   "metadata": {
    "collapsed": false
   },
   "id": "3d4316ec97799a10"
  },
  {
   "cell_type": "markdown",
   "source": [
    "# Import OD pairs"
   ],
   "metadata": {
    "collapsed": false
   },
   "id": "a4895ee6ae3894eb"
  },
  {
   "cell_type": "code",
   "execution_count": null,
   "outputs": [],
   "source": [
    "file_path = '../Data/'\n",
    "output_file_path = file_path + 'Output/'\n",
    "OD_pairs = pd.read_csv((output_file_path + \"temp_intersect_OD.csv\"))"
   ],
   "metadata": {
    "collapsed": false
   },
   "id": "a9c5a444eb778946"
  },
  {
   "cell_type": "code",
   "execution_count": null,
   "outputs": [],
   "source": [
    "OD_pairs"
   ],
   "metadata": {
    "collapsed": false
   },
   "id": "63bc5b6c02cb9ba7"
  },
  {
   "cell_type": "markdown",
   "source": [
    "# Import Street Network in LA Urban Area"
   ],
   "metadata": {
    "collapsed": false
   },
   "id": "5a34fe4143c755bc"
  },
  {
   "cell_type": "code",
   "execution_count": null,
   "outputs": [],
   "source": [
    "# using the street network of Graphml file of LA urban area\n",
    "G = ox.io.load_graphml(file_path + 'los_angeles-14.graphml')\n"
   ],
   "metadata": {
    "collapsed": false
   },
   "id": "7a3f9283e0ddab94"
  },
  {
   "cell_type": "code",
   "execution_count": null,
   "outputs": [],
   "source": [
    "# add attributes\n",
    "G = ox.add_edge_speeds(G)\n",
    "G = ox.add_edge_travel_times(G)\n",
    "G = ox.bearing.add_edge_bearings(G)"
   ],
   "metadata": {
    "collapsed": false
   },
   "id": "122613c4a30c86a4"
  },
  {
   "cell_type": "code",
   "execution_count": null,
   "outputs": [],
   "source": [
    "G = add_edge_traffic_times(G, **TRAFFIC_TIME_CONFIG)"
   ],
   "metadata": {
    "collapsed": false
   },
   "id": "50feecbd9e4cbc0c"
  },
  {
   "cell_type": "code",
   "execution_count": null,
   "outputs": [],
   "source": [
    "nodes_gdf, edges_gdf = ox.graph_to_gdfs(G)"
   ],
   "metadata": {
    "collapsed": false
   },
   "id": "b744f809d1dc8de1"
  },
  {
   "cell_type": "markdown",
   "source": [
    "# Set Turn Penalty Parameter"
   ],
   "metadata": {
    "collapsed": false
   },
   "id": "26c8eda40d17c37b"
  },
  {
   "cell_type": "code",
   "execution_count": null,
   "outputs": [],
   "source": [
    "penalty = get_turn_penalty_dict(G, left_turn_penalty=30, right_turn_penalty=10, u_turn_penalty=90)"
   ],
   "metadata": {
    "collapsed": false
   },
   "id": "d8e13dde5d91bc16"
  },
  {
   "cell_type": "markdown",
   "source": [
    "# Sample OD pair and calculate naive/free-flow VS penalized travel time"
   ],
   "metadata": {
    "collapsed": false
   },
   "id": "8e5252c928eafe7b"
  },
  {
   "cell_type": "code",
   "execution_count": null,
   "outputs": [],
   "source": [
    "# due to the run time, I only sampled 50 OD pairs\n",
    "OD_pairs_sample = OD_pairs.sample(50, replace=True).copy()"
   ],
   "metadata": {
    "collapsed": false
   },
   "id": "eba47f7ded851e50"
  },
  {
   "cell_type": "code",
   "execution_count": null,
   "outputs": [],
   "source": [
    "penalty_routes = get_routes_from_OD_df(G, OD_pairs_sample, weight='total_time', penalty=penalty)"
   ],
   "metadata": {
    "collapsed": false
   },
   "id": "84132c2675b4c178"
  },
  {
   "cell_type": "code",
   "execution_count": null,
   "outputs": [],
   "source": [
    "naive_routes = get_routes_from_OD_df(G, OD_pairs_sample, weight='travel_time')"
   ],
   "metadata": {
    "collapsed": false
   },
   "id": "4aeb5c459a5f9079"
  },
  {
   "cell_type": "code",
   "execution_count": null,
   "outputs": [],
   "source": [
    "# travel time of 50 O-D pairs routes\n",
    "penalty_time_result = []\n",
    "naive_time_result = []\n",
    "\n",
    "for i in range(len(penalty_routes)):\n",
    "    x = sum(ox.utils_graph.get_route_edge_attributes(G, penalty_routes[i], 'total_time'))\n",
    "    y = sum(ox.utils_graph.get_route_edge_attributes(G, naive_routes[i], 'travel_time'))\n",
    "    penalty_time_result.append(x)\n",
    "    naive_time_result.append(y)\n",
    "    "
   ],
   "metadata": {
    "collapsed": false
   },
   "id": "f4ad89bcd86b799b"
  },
  {
   "cell_type": "code",
   "execution_count": null,
   "outputs": [],
   "source": [
    "# compare the naive/freeflow travel time and penalized travel time\n",
    "time_compare = pd.DataFrame(\n",
    "    {'penalized travel time': penalty_time_result,\n",
    "     'naive travel time': naive_time_result,\n",
    "    })"
   ],
   "metadata": {
    "collapsed": false
   },
   "id": "9a582a4ef58b7529"
  },
  {
   "cell_type": "code",
   "execution_count": null,
   "outputs": [],
   "source": [
    "time_compare"
   ],
   "metadata": {
    "collapsed": false
   },
   "id": "6d3af674b0f0697d"
  },
  {
   "cell_type": "code",
   "execution_count": null,
   "outputs": [],
   "source": [
    "time_compare['penalized travel time'].sum()/time_compare['naive travel time'].sum()"
   ],
   "metadata": {
    "collapsed": false
   },
   "id": "fde9ad10292f98b6"
  }
 ],
 "metadata": {
  "kernelspec": {
   "display_name": "Python 3",
   "language": "python",
   "name": "python3"
  },
  "language_info": {
   "codemirror_mode": {
    "name": "ipython",
    "version": 2
   },
   "file_extension": ".py",
   "mimetype": "text/x-python",
   "name": "python",
   "nbconvert_exporter": "python",
   "pygments_lexer": "ipython2",
   "version": "2.7.6"
  }
 },
 "nbformat": 4,
 "nbformat_minor": 5
}
