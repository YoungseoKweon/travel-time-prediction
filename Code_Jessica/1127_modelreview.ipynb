{
 "cells": [
  {
   "cell_type": "code",
   "execution_count": null,
   "metadata": {},
   "outputs": [],
   "source": [
    "# import libraries\n",
    "import requests\n",
    "import os\n",
    "import hashlib\n",
    "import pathlib\n",
    "import json\n",
    "from datetime import datetime\n",
    "import pytz\n",
    "from urllib.parse import urlparse\n",
    "import time\n",
    "import pandas as pd\n",
    "import googlemaps\n",
    "import concurrent.futures\n",
    "import pandas as pd\n",
    "import geopandas as gpd\n",
    "from shapely.geometry import Point\n",
    "import matplotlib.pyplot as plt\n",
    "import folium\n",
    "import statsmodels.api as sm\n",
    "import numpy as np"
   ]
  },
  {
   "cell_type": "code",
   "execution_count": null,
   "metadata": {},
   "outputs": [],
   "source": [
    "# import functions\n",
    "from functions.routes_api_functions import Location\n",
    "from functions.routes_api_functions import calculateRoute\n",
    "from functions.routes_api_functions import parseDataframeToLocations\n",
    "from functions.routes_api_functions import createDataFrameFromResults\n",
    "from functions.routes_api_functions import cache_file_path\n",
    "from functions.routes_api_functions import save_to_cache\n",
    "from functions.routes_api_functions import load_from_cache\n",
    "from functions.routes_api_functions import fetch_all_routes\n",
    "from functions.routes_api_functions import create_departure_time"
   ]
  },
  {
   "cell_type": "markdown",
   "metadata": {},
   "source": [
    "## Calculate routes at 3AM on 300 OD pairs"
   ]
  },
  {
   "cell_type": "code",
   "execution_count": null,
   "metadata": {},
   "outputs": [],
   "source": [
    "# import data\n",
    "od_300 = pd.read_csv('../Data/route_result_uber_hod3am_300_all_original.csv')"
   ]
  },
  {
   "cell_type": "code",
   "execution_count": null,
   "metadata": {},
   "outputs": [],
   "source": [
    "od_300"
   ]
  },
  {
   "cell_type": "code",
   "execution_count": null,
   "metadata": {},
   "outputs": [],
   "source": [
    "origins = od_300[['oid', 'oy', 'ox']]\n",
    "destinations = od_300[['did', 'dy', 'dx']]"
   ]
  },
  {
   "cell_type": "code",
   "execution_count": null,
   "metadata": {},
   "outputs": [],
   "source": [
    "# convert origins, destinations to geodataframe\n",
    "origins = gpd.GeoDataFrame(origins, geometry=[Point(xy) for xy in zip(origins.ox, origins.oy)])\n",
    "destinations = gpd.GeoDataFrame(destinations, geometry=[Point(xy) for xy in zip(destinations.dx, destinations.dy)])"
   ]
  },
  {
   "cell_type": "code",
   "execution_count": null,
   "metadata": {},
   "outputs": [],
   "source": [
    "# apply parsedataframetoLocations\n",
    "originsLoc = parseDataframeToLocations(origins)\n",
    "destinationsLoc = parseDataframeToLocations(destinations)"
   ]
  },
  {
   "cell_type": "code",
   "execution_count": null,
   "metadata": {},
   "outputs": [],
   "source": [
    "# api key\n",
    "key = 'Jessica API Key'"
   ]
  },
  {
   "cell_type": "code",
   "execution_count": null,
   "metadata": {},
   "outputs": [],
   "source": [
    "# calculate routes\n",
    "# Nov 29 (Wednesday) 3AM\n",
    "departure_times = [(2023, 11, 29, hour, 0, 0) for hour in od_300['hour_of_day']]\n",
    "# use departure_times list as input\n",
    "results = fetch_all_routes(apikey=key, origins=originsLoc, destinations=destinationsLoc, traffic='TRAFFIC_AWARE', departure_times=departure_times)"
   ]
  },
  {
   "cell_type": "code",
   "execution_count": null,
   "metadata": {},
   "outputs": [],
   "source": [
    "# test of calculateRoute function\n",
    "result = calculateRoute(apikey=key, orig=originsLoc[17], dest=destinationsLoc[17], traffic='TRAFFIC_AWARE', departure_time=(2023, 11, 29, od_300['hour_of_day'][17], 0, 0))\n",
    "result"
   ]
  },
  {
   "cell_type": "code",
   "execution_count": null,
   "metadata": {},
   "outputs": [],
   "source": [
    "df = createDataFrameFromResults(results)\n",
    "df"
   ]
  },
  {
   "cell_type": "code",
   "execution_count": null,
   "metadata": {},
   "outputs": [],
   "source": [
    "# check location of O-D\n",
    "# latitude and longitude for the two points\n",
    "o_lat, o_lon = float(originsLoc[17].lat), float(originsLoc[17].lon)\n",
    "d_lat, d_lon = float(destinationsLoc[17].lat), float(destinationsLoc[17].lon)\n",
    "\n",
    "# create a map centered between the two points\n",
    "m = folium.Map(location=[(o_lat + d_lat) / 2, (o_lon + d_lon) / 2], zoom_start=11)\n",
    "\n",
    "folium.Marker(\n",
    "    [o_lat, o_lon],\n",
    "    popup='Origin',\n",
    "    icon=folium.Icon(color='red')\n",
    ").add_to(m)\n",
    "\n",
    "folium.Marker(\n",
    "    [d_lat, d_lon],\n",
    "    popup='Destination',\n",
    "    icon=folium.Icon(color='blue')\n",
    ").add_to(m)\n",
    "\n",
    "m"
   ]
  },
  {
   "cell_type": "markdown",
   "metadata": {},
   "source": [
    "## Comparison of Routes API results"
   ]
  },
  {
   "cell_type": "code",
   "execution_count": null,
   "metadata": {},
   "outputs": [],
   "source": [
    "# routes duration time comparison (without caching)\n",
    "## Nov 27"
   ]
  },
  {
   "cell_type": "code",
   "execution_count": null,
   "metadata": {},
   "outputs": [],
   "source": [
    "# import data 300 od pairs with different departure times\n",
    "data = pd.read_csv('../Data/routeresultadded_od300.csv')\n",
    "origins = data[['oid', 'oy', 'ox']]\n",
    "destinations = data[['did', 'dy', 'dx']]\n",
    "\n",
    "# convert origins, destinations to geodataframe\n",
    "origins = gpd.GeoDataFrame(origins, geometry=[Point(xy) for xy in zip(origins.ox, origins.oy)])\n",
    "destinations = gpd.GeoDataFrame(destinations, geometry=[Point(xy) for xy in zip(destinations.dx, destinations.dy)])\n",
    "\n",
    "# apply parsedataframetoLocations\n",
    "originsLoc = parseDataframeToLocations(origins)\n",
    "destinationsLoc = parseDataframeToLocations(destinations)"
   ]
  },
  {
   "cell_type": "code",
   "execution_count": null,
   "metadata": {},
   "outputs": [],
   "source": [
    "data"
   ]
  },
  {
   "cell_type": "code",
   "execution_count": null,
   "metadata": {},
   "outputs": [],
   "source": [
    "compare = []\n",
    "for i, row in od_300.iterrows():\n",
    "    x = calculateRoute(apikey=key, orig=originsLoc[i], dest=destinationsLoc[i], traffic='TRAFFIC_AWARE', departure_time=(2023, 11, 27, row['hour_of_day'], 0, 0))\n",
    "    compare.append(x)"
   ]
  },
  {
   "cell_type": "code",
   "execution_count": null,
   "metadata": {},
   "outputs": [],
   "source": [
    "df_compare = createDataFrameFromResults(compare)\n",
    "df_compare"
   ]
  },
  {
   "cell_type": "code",
   "execution_count": null,
   "metadata": {},
   "outputs": [],
   "source": [
    "previous = data[['distance', 'duration', 'polyline']]"
   ]
  },
  {
   "cell_type": "code",
   "execution_count": null,
   "metadata": {},
   "outputs": [],
   "source": [
    "previous == df_compare"
   ]
  },
  {
   "cell_type": "code",
   "execution_count": null,
   "metadata": {},
   "outputs": [],
   "source": [
    "dataframes = {\n",
    "    '1126_distance': df_compare['distance'],\n",
    "    '1126_duration': df_compare['duration'],\n",
    "    '1119_distance': previous['distance'],\n",
    "    '1119_duration': previous['duration']\n",
    "}\n",
    "\n",
    "styles = {\n",
    "    '1126_distance': 'r-',  \n",
    "    '1126_duration': 'r-',  \n",
    "    '1119_distance': 'b-',  \n",
    "    '1119_duration': 'b-'  \n",
    "}"
   ]
  },
  {
   "cell_type": "code",
   "execution_count": null,
   "metadata": {},
   "outputs": [],
   "source": [
    "# Distance\n",
    "plt.figure(figsize=(12, 6))\n",
    "plt.plot(dataframes['1126_distance'], styles['1126_distance'], label='1126 Distance')\n",
    "plt.plot(dataframes['1119_distance'], styles['1119_distance'], label='1119 Distance')\n",
    "plt.title('Distance Comparison')\n",
    "plt.ylabel('Distance')\n",
    "plt.legend()\n",
    "plt.show()"
   ]
  },
  {
   "cell_type": "code",
   "execution_count": null,
   "metadata": {},
   "outputs": [],
   "source": [
    "# Duration\n",
    "plt.figure(figsize=(12, 6))\n",
    "plt.plot(dataframes['1126_duration'], styles['1126_duration'], label='1126 Duration')\n",
    "plt.plot(dataframes['1119_duration'], styles['1119_duration'], label='1119 Duration')\n",
    "plt.title('Duration Comparison')\n",
    "plt.ylabel('Duration')\n",
    "plt.legend()\n",
    "plt.show()"
   ]
  },
  {
   "cell_type": "code",
   "execution_count": null,
   "metadata": {},
   "outputs": [],
   "source": [
    "# calculate the difference (distance, duration)\n",
    "difference = pd.DataFrame()\n",
    "difference['distance'] = ((df_compare['distance'] - previous['distance'])/previous['distance'])*100\n",
    "difference['duration'] = ((df_compare['duration'] - previous['duration'])/previous['duration'])*100"
   ]
  },
  {
   "cell_type": "code",
   "execution_count": null,
   "metadata": {},
   "outputs": [],
   "source": [
    "difference"
   ]
  },
  {
   "cell_type": "code",
   "execution_count": null,
   "metadata": {},
   "outputs": [],
   "source": [
    "fig, axes = plt.subplots(nrows=1, ncols=2, figsize=(12, 6))\n",
    "\n",
    "difference['distance'].plot(ax=axes[0])\n",
    "axes[0].set_title('Distance')\n",
    "axes[0].set_ylabel('Difference (%)')\n",
    "\n",
    "difference['duration'].plot(ax=axes[1])\n",
    "axes[1].set_title('Duration')\n",
    "axes[1].set_ylabel('Difference (%)')\n",
    "\n",
    "plt.tight_layout()\n",
    "plt.show()"
   ]
  }
 ],
 "metadata": {
  "kernelspec": {
   "display_name": "Python 3.10.10 ('ppd599')",
   "language": "python",
   "name": "python3"
  },
  "language_info": {
   "codemirror_mode": {
    "name": "ipython",
    "version": 3
   },
   "file_extension": ".py",
   "mimetype": "text/x-python",
   "name": "python",
   "nbconvert_exporter": "python",
   "pygments_lexer": "ipython3",
   "version": "3.10.10"
  },
  "orig_nbformat": 4,
  "vscode": {
   "interpreter": {
    "hash": "9459c1f1e6a42d62dba2ec1671ea395e68ff99b4f6ce754dc9cd2717ec5d1a8f"
   }
  }
 },
 "nbformat": 4,
 "nbformat_minor": 2
}
